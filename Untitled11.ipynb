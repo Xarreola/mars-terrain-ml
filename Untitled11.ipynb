{
 "cells": [
  {
   "cell_type": "code",
   "execution_count": 1,
   "id": "86897353-effa-46a6-9287-69b4f9659332",
   "metadata": {},
   "outputs": [
    {
     "name": "stdout",
     "output_type": "stream",
     "text": [
      "Collecting plyfile\n",
      "  Downloading plyfile-1.1-py3-none-any.whl.metadata (2.1 kB)\n",
      "Requirement already satisfied: pandas in c:\\users\\dell\\anaconda3\\lib\\site-packages (2.2.2)\n",
      "Requirement already satisfied: numpy>=1.21 in c:\\users\\dell\\anaconda3\\lib\\site-packages (from plyfile) (1.26.4)\n",
      "Requirement already satisfied: python-dateutil>=2.8.2 in c:\\users\\dell\\anaconda3\\lib\\site-packages (from pandas) (2.9.0.post0)\n",
      "Requirement already satisfied: pytz>=2020.1 in c:\\users\\dell\\anaconda3\\lib\\site-packages (from pandas) (2024.1)\n",
      "Requirement already satisfied: tzdata>=2022.7 in c:\\users\\dell\\anaconda3\\lib\\site-packages (from pandas) (2023.3)\n",
      "Requirement already satisfied: six>=1.5 in c:\\users\\dell\\anaconda3\\lib\\site-packages (from python-dateutil>=2.8.2->pandas) (1.16.0)\n",
      "Downloading plyfile-1.1-py3-none-any.whl (23 kB)\n",
      "Installing collected packages: plyfile\n",
      "Successfully installed plyfile-1.1\n",
      "Note: you may need to restart the kernel to use updated packages.\n"
     ]
    }
   ],
   "source": [
    "pip install plyfile pandas\n"
   ]
  },
  {
   "cell_type": "code",
   "execution_count": null,
   "id": "f1c4337a-0e98-48d6-a7af-24de96c9ba9b",
   "metadata": {},
   "outputs": [],
   "source": [
    "from plyfile import PlyData\n",
    "import numpy as np\n",
    "import pandas as pd\n",
    "\n",
    "# 1) Update this to your PLY path:\n",
    "mesh_path = r\"D:\\MARS FILES\\MESH\\CC\\MeshCleanUnshifted1.ply\"\n",
    "\n",
    "# 2) Read vertices and stack coords\n",
    "plydata = PlyData.read(mesh_path)\n",
    "v = plydata['vertex']\n",
    "coords = np.vstack((v['x'], v['y'], v['z'])).T\n",
    "\n",
    "# 3) Compute extents\n",
    "mins = coords.min(axis=0)\n",
    "maxs = coords.max(axis=0)\n",
    "df = pd.DataFrame({\n",
    "    'Axis':['X','Y','Z'],\n",
    "    'Min':[mins[0], mins[1], mins[2]],\n",
    "    'Max':[maxs[0], maxs[1], maxs[2]]\n",
    "})\n",
    "\n",
    "display(df)\n"
   ]
  },
  {
   "cell_type": "code",
   "execution_count": null,
   "id": "e0f2c120-e3cd-4098-89fd-fe822fd59ced",
   "metadata": {},
   "outputs": [],
   "source": []
  }
 ],
 "metadata": {
  "kernelspec": {
   "display_name": "Python [conda env:base] *",
   "language": "python",
   "name": "conda-base-py"
  },
  "language_info": {
   "codemirror_mode": {
    "name": "ipython",
    "version": 3
   },
   "file_extension": ".py",
   "mimetype": "text/x-python",
   "name": "python",
   "nbconvert_exporter": "python",
   "pygments_lexer": "ipython3",
   "version": "3.12.7"
  }
 },
 "nbformat": 4,
 "nbformat_minor": 5
}
