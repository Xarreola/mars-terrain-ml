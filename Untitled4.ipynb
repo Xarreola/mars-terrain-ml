{
 "cells": [
  {
   "cell_type": "code",
   "execution_count": 2,
   "id": "5bee5798-a7cf-476d-8a86-9c67bacfc4d5",
   "metadata": {},
   "outputs": [
    {
     "ename": "SyntaxError",
     "evalue": "incomplete input (1969998209.py, line 37)",
     "output_type": "error",
     "traceback": [
      "\u001b[1;36m  Cell \u001b[1;32mIn[2], line 37\u001b[1;36m\u001b[0m\n\u001b[1;33m    in0 = (v0[:,0]>=x0)&(v0[:,]()\u001b[0m\n\u001b[1;37m                                 ^\u001b[0m\n\u001b[1;31mSyntaxError\u001b[0m\u001b[1;31m:\u001b[0m incomplete input\n"
     ]
    }
   ],
   "source": [
    "import trimesh\n",
    "import numpy as np\n",
    "import os\n",
    "\n",
    "# 1. Load your cleaned mesh\n",
    "mesh_path = r\"D:\\MARS FILES\\MESH\\CC\\Meshclean2.ply\"\n",
    "mesh = trimesh.load(mesh_path, process=False)\n",
    "verts = mesh.vertices\n",
    "faces = mesh.faces\n",
    "\n",
    "# 2. Define extents (from CloudCompare)\n",
    "X_MIN, X_MAX = -103247.0, 1240690.0\n",
    "Y_MIN, Y_MAX = -1161150.0,  434666.0\n",
    "\n",
    "# 3. Compute how many 1km tiles\n",
    "tile_size = 1000.0  # meters\n",
    "nx = int(np.ceil((X_MAX - X_MIN) / tile_size))\n",
    "ny = int(np.ceil((Y_MAX - Y_MIN) / tile_size))\n",
    "print(f\"Tiling into {nx}×{ny} tiles\")\n",
    "\n",
    "# 4. Prepare output folder\n",
    "out_dir = r\"D:\\MARS FILES\\MESH\\CC\\tiles_1km\"\n",
    "os.makedirs(out_dir, exist_ok=True)\n",
    "\n",
    "# 5. Loop over tiles, slice mesh, and export\n",
    "for i in range(nx):\n",
    "    for j in range(ny):\n",
    "        # define this tile’s X/Y bounds\n",
    "        x0, x1 = X_MIN + i*tile_size, X_MIN + (i+1)*tile_size\n",
    "        y0, y1 = Y_MIN + j*tile_size, Y_MIN + (j+1)*tile_size\n",
    "\n",
    "        # test each face: all 3 verts must lie inside the tile footprint\n",
    "        v0 = verts[faces[:,0], :2]\n",
    "        v1 = verts[faces[:,1], :2]\n",
    "        v2 = verts[faces[:,2], :2]\n",
    "\n",
    "        in0 = (v0[:,0]>=x0)&(v0[:,]()\n"
   ]
  },
  {
   "cell_type": "code",
   "execution_count": null,
   "id": "1649c90b-e6e1-4030-b401-3122500a7e11",
   "metadata": {},
   "outputs": [],
   "source": []
  }
 ],
 "metadata": {
  "kernelspec": {
   "display_name": "Python [conda env:base] *",
   "language": "python",
   "name": "conda-base-py"
  },
  "language_info": {
   "codemirror_mode": {
    "name": "ipython",
    "version": 3
   },
   "file_extension": ".py",
   "mimetype": "text/x-python",
   "name": "python",
   "nbconvert_exporter": "python",
   "pygments_lexer": "ipython3",
   "version": "3.12.7"
  }
 },
 "nbformat": 4,
 "nbformat_minor": 5
}
