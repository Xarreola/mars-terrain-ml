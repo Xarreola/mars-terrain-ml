{
 "cells": [
  {
   "cell_type": "code",
   "execution_count": 2,
   "id": "6f4ddb2b-dbba-4c7a-95fe-3873f5c6335c",
   "metadata": {},
   "outputs": [
    {
     "name": "stdout",
     "output_type": "stream",
     "text": [
      "Requirement already satisfied: numpy in c:\\users\\dell\\anaconda3\\lib\\site-packages (1.26.4)\n",
      "Requirement already satisfied: pandas in c:\\users\\dell\\anaconda3\\lib\\site-packages (2.2.2)\n",
      "Requirement already satisfied: python-dateutil>=2.8.2 in c:\\users\\dell\\anaconda3\\lib\\site-packages (from pandas) (2.9.0.post0)\n",
      "Requirement already satisfied: pytz>=2020.1 in c:\\users\\dell\\anaconda3\\lib\\site-packages (from pandas) (2024.1)\n",
      "Requirement already satisfied: tzdata>=2022.7 in c:\\users\\dell\\anaconda3\\lib\\site-packages (from pandas) (2023.3)\n",
      "Requirement already satisfied: six>=1.5 in c:\\users\\dell\\anaconda3\\lib\\site-packages (from python-dateutil>=2.8.2->pandas) (1.16.0)\n",
      "Note: you may need to restart the kernel to use updated packages.\n"
     ]
    }
   ],
   "source": [
    "pip install numpy pandas"
   ]
  },
  {
   "cell_type": "code",
   "execution_count": 1,
   "id": "853a0d92-2032-4c32-9ad3-0efff45e9c05",
   "metadata": {},
   "outputs": [
    {
     "name": "stdout",
     "output_type": "stream",
     "text": [
      "D:\\MARS FILES\\ultimateMOLA_topography\n"
     ]
    }
   ],
   "source": [
    "cd D:\\MARS FILES\\ultimateMOLA_topography\\"
   ]
  },
  {
   "cell_type": "code",
   "execution_count": 3,
   "id": "684e0eb5-f7bc-4636-a84c-693a46f50009",
   "metadata": {},
   "outputs": [],
   "source": [
    "import numpy as np"
   ]
  },
  {
   "cell_type": "code",
   "execution_count": 5,
   "id": "cb573884-9888-4ef4-b3ba-ff6adf3b23bb",
   "metadata": {},
   "outputs": [
    {
     "ename": "SyntaxError",
     "evalue": "(unicode error) 'unicodeescape' codec can't decode bytes in position 13-14: truncated \\uXXXX escape (1625296159.py, line 1)",
     "output_type": "error",
     "traceback": [
      "\u001b[1;36m  Cell \u001b[1;32mIn[5], line 1\u001b[1;36m\u001b[0m\n\u001b[1;33m    file_path = \"D:\\MARS FILES\\ultimateMOLA_topography\"\u001b[0m\n\u001b[1;37m                ^\u001b[0m\n\u001b[1;31mSyntaxError\u001b[0m\u001b[1;31m:\u001b[0m (unicode error) 'unicodeescape' codec can't decode bytes in position 13-14: truncated \\uXXXX escape\n"
     ]
    }
   ],
   "source": [
    "file_path = \"D:\\MARS FILES\\ultimateMOLA_topography\"\n"
   ]
  },
  {
   "cell_type": "code",
   "execution_count": 7,
   "id": "3e46b18a-30cc-4523-a66e-bf310ec100c2",
   "metadata": {},
   "outputs": [
    {
     "ename": "SyntaxError",
     "evalue": "(unicode error) 'unicodeescape' codec can't decode bytes in position 13-14: truncated \\uXXXX escape (988267086.py, line 5)",
     "output_type": "error",
     "traceback": [
      "\u001b[1;36m  Cell \u001b[1;32mIn[7], line 5\u001b[1;36m\u001b[0m\n\u001b[1;33m    folder_path = \"D:\\MARS FILES\\ultimateMOLA_topography\"\u001b[0m\n\u001b[1;37m                  ^\u001b[0m\n\u001b[1;31mSyntaxError\u001b[0m\u001b[1;31m:\u001b[0m (unicode error) 'unicodeescape' codec can't decode bytes in position 13-14: truncated \\uXXXX escape\n"
     ]
    }
   ],
   "source": [
    "import numpy as np\n",
    "import os\n",
    "\n",
    "# Define the folder containing the .d files\n",
    "folder_path = \"D:\\MARS FILES\\ultimateMOLA_topography\"\n",
    "\n",
    "# List all .d files in the folder\n",
    "file_list = [f for f in os.listdir(folder_path) if f.endswith(\".d\")]\n",
    "\n",
    "# Initialize an empty list to store data\n",
    "all_data = []\n",
    "\n",
    "# Loop through all files and read them\n",
    "for file in file_list:\n",
    "    file_path = os.path.join(folder_path, file)\n",
    "    data = np.fromfile(file_path, dtype=\">f8\").reshape(-1, 3)  # BigEndian 3-column format\n",
    "    all_data.append(data)\n",
    "\n",
    "# Combine all files into a single NumPy array\n",
    "merged_data = np.vstack(all_data)\n",
    "\n",
    "# Print the shape of the combined dataset (rows, columns)\n",
    "print(\"Total points:\", merged_data.shape)\n",
    "\n",
    "# Preview first few rows\n",
    "print(merged_data[:5])\n"
   ]
  },
  {
   "cell_type": "code",
   "execution_count": null,
   "id": "a750acae-31ce-4905-920f-c0fed6ab75b6",
   "metadata": {},
   "outputs": [],
   "source": []
  }
 ],
 "metadata": {
  "kernelspec": {
   "display_name": "Python [conda env:base] *",
   "language": "python",
   "name": "conda-base-py"
  },
  "language_info": {
   "codemirror_mode": {
    "name": "ipython",
    "version": 3
   },
   "file_extension": ".py",
   "mimetype": "text/x-python",
   "name": "python",
   "nbconvert_exporter": "python",
   "pygments_lexer": "ipython3",
   "version": "3.12.7"
  }
 },
 "nbformat": 4,
 "nbformat_minor": 5
}
