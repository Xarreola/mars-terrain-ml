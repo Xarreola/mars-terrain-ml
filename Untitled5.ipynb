{
 "cells": [
  {
   "cell_type": "code",
   "execution_count": 1,
   "id": "7a8bca46-025c-4b88-ac4b-9bafcc9ef50e",
   "metadata": {},
   "outputs": [
    {
     "ename": "FileNotFoundError",
     "evalue": "[WinError 3] El sistema no puede encontrar la ruta especificada: '/mnt/data'",
     "output_type": "error",
     "traceback": [
      "\u001b[1;31m---------------------------------------------------------------------------\u001b[0m",
      "\u001b[1;31mFileNotFoundError\u001b[0m                         Traceback (most recent call last)",
      "Cell \u001b[1;32mIn[1], line 2\u001b[0m\n\u001b[0;32m      1\u001b[0m \u001b[38;5;28;01mimport\u001b[39;00m \u001b[38;5;21;01mos\u001b[39;00m\n\u001b[1;32m----> 2\u001b[0m \u001b[38;5;28mprint\u001b[39m(os\u001b[38;5;241m.\u001b[39mlistdir(\u001b[38;5;124m'\u001b[39m\u001b[38;5;124m/mnt/data\u001b[39m\u001b[38;5;124m'\u001b[39m))\n",
      "\u001b[1;31mFileNotFoundError\u001b[0m: [WinError 3] El sistema no puede encontrar la ruta especificada: '/mnt/data'"
     ]
    }
   ],
   "source": [
    "import os\n",
    "print(os.listdir('/mnt/data'))\n"
   ]
  },
  {
   "cell_type": "code",
   "execution_count": 3,
   "id": "e942860e-9c60-4e63-86b9-5e28124b160d",
   "metadata": {},
   "outputs": [
    {
     "name": "stdout",
     "output_type": "stream",
     "text": [
      "CWD: C:\\Users\\Dell\n",
      "Contents: ['.anaconda', '.android', '.bgis', '.conda', '.condarc', '.continuum', '.honeybee', '.InstallAnywhere', '.ipynb_checkpoints', '.ipython', '.jupyter', '.ladybug', '.matplotlib', '.ms-ad', '.nuget', '.opera', '.Origin', '.QtWebEngineProcess', '.rhinocode', '.thumbnails', '3D Objects', 'A00826757@itesm.mx Creative Cloud Files (enterprise)', 'anaconda3', 'anaconda_projects', 'ansel', 'AppData', 'battery-report.html', 'CmDust-Result.log', 'Configuración local', 'Contacts', 'Cookies', 'Creative Cloud Files (archived) (1)', 'Creative Cloud Files Company Account POLITECNICO DI MILANO - POLIMI javierandres.arreola@mail.polimi.it 16CA2CC85F59A6670A495FEC@mail.polimi.it', 'Datos de programa', 'Descargas - Acceso directo.lnk', 'Desktop', 'Documents', 'Downloads', 'Enscape', 'Entorno de red', 'Favorites', 'Graphisoft', 'iCloudDrive', 'Impresoras', 'IntelGraphicsProfiles', 'ladybug_tools', 'Links', 'Menú Inicio', 'Meshclean2.ply', 'MicrosoftEdgeBackups', 'Mis documentos', 'Music', 'NTUSER.DAT', 'ntuser.dat.LOG1', 'ntuser.dat.LOG2', 'NTUSER.DAT{2ad838bc-efea-11ee-a54d-000d3a94eaa1}.TM.blf', 'NTUSER.DAT{2ad838bc-efea-11ee-a54d-000d3a94eaa1}.TMContainer00000000000000000001.regtrans-ms', 'NTUSER.DAT{2ad838bc-efea-11ee-a54d-000d3a94eaa1}.TMContainer00000000000000000002.regtrans-ms', 'ntuser.ini', 'OneDrive', 'OneDrive - Politecnico di Milano', 'Pictures', 'plansPiante aggiornate-Layout555.pdf', 'Plantillas', 'plot.log', 'Reciente', 'saga_gui.ini', 'Saved Games', 'Searches', 'SendTo', 'simulation', 'source', 'tile_0_67.ply', 'tile_0_68.ply', 'tile_0_69.ply', 'tile_1_66.ply', 'tile_1_67.ply', 'tile_1_68.ply', 'tile_1_69.ply', 'tile_1_70.ply', 'tile_2_65.ply', 'tile_2_66.ply', 'tile_2_67.ply', 'tile_2_68.ply', 'tile_2_69.ply', 'tile_2_70.ply', 'tile_2_71.ply', 'tile_3_64.ply', 'tile_3_65.ply', 'tile_3_66.ply', 'tile_3_67.ply', 'tile_3_68.ply', 'tile_3_69.ply', 'tile_3_70.ply', 'tile_3_71.ply', 'tile_3_72.ply', 'tile_4_64.ply', 'tile_4_65.ply', 'tile_4_66.ply', 'tile_4_67.ply', 'tile_4_68.ply', 'tile_4_69.ply', 'tile_4_70.ply', 'tile_4_71.ply', 'tile_4_72.ply', 'tile_4_73.ply', 'tile_4_74.ply', 'Tracing', 'Untitled.ipynb', 'Untitled1.ipynb', 'Untitled2.ipynb', 'Untitled3.ipynb', 'Untitled4.ipynb', 'Untitled5.ipynb', 'Videos']\n"
     ]
    }
   ],
   "source": [
    "import os\n",
    "cwd = os.getcwd()\n",
    "print(\"CWD:\", cwd)\n",
    "print(\"Contents:\", os.listdir(cwd))\n"
   ]
  },
  {
   "cell_type": "code",
   "execution_count": null,
   "id": "2f94c0be-6ab5-437e-ae21-d471178c7c60",
   "metadata": {},
   "outputs": [
    {
     "name": "stdout",
     "output_type": "stream",
     "text": [
      "Loading mesh from: C:\\Users\\Dell\\Meshclean2.ply\n"
     ]
    }
   ],
   "source": [
    "import os\n",
    "import trimesh\n",
    "import numpy as np\n",
    "\n",
    "# 1. Locate the mesh in the current working folder\n",
    "cwd = os.getcwd()\n",
    "mesh_path = os.path.join(cwd, \"Meshclean2.ply\")\n",
    "if not os.path.exists(mesh_path):\n",
    "    raise FileNotFoundError(f\"Mesh not found at {mesh_path}\")\n",
    "\n",
    "print(\"Loading mesh from:\", mesh_path)\n",
    "mesh = trimesh.load(mesh_path, process=False)\n",
    "verts = mesh.vertices\n",
    "faces = mesh.faces\n",
    "print(f\"Mesh has {len(verts)} vertices and {len(faces)} faces\")\n",
    "\n",
    "# 2. Extents from CloudCompare\n",
    "X_MIN, X_MAX = -103247.0, 1240690.0\n",
    "Y_MIN, Y_MAX = -1161150.0,  434666.0\n",
    "\n",
    "# 3. Tile counts (1km squares)\n",
    "tile_size = 1000.0\n",
    "nx = int(np.ceil((X_MAX - X_MIN) / tile_size))\n",
    "ny = int(np.ceil((Y_MAX - Y_MIN) / tile_size))\n",
    "print(f\"Tiling into {nx}×{ny} = {nx*ny} squares\")\n",
    "\n",
    "# 4. Output folder inside CWD\n",
    "out_dir = os.path.join(cwd, \"tiles_1km\")\n",
    "os.makedirs(out_dir, exist_ok=True)\n",
    "\n",
    "# 5. Compute face‐coordinates array once\n",
    "face_coords = verts[faces]  # shape (n_faces, 3, 3)\n",
    "\n",
    "# 6. Loop & export\n",
    "for i in range(nx):\n",
    "    for j in range(ny):\n",
    "        x0, x1 = X_MIN + i*tile_size, X_MIN + (i+1)*tile_size\n",
    "        y0, y1 = Y_MIN + j*tile_size, Y_MIN + (j+1)*tile_size\n",
    "\n",
    "        # boolean mask for faces fully inside the XY box\n",
    "        within_x = (face_coords[:,:,0] >= x0) & (face_coords[:,:,0] < x1)\n",
    "        within_y = (face_coords[:,:,1] >= y0) & (face_coords[:,:,1] < y1)\n",
    "        mask = np.all(within_x & within_y, axis=(1,2))\n",
    "\n",
    "        if not mask.any():\n",
    "            continue\n",
    "\n",
    "        sub_faces = faces[mask]\n",
    "        vs, inv = np.unique(sub_faces.flatten(), return_inverse=True)\n",
    "        sub_verts = verts[vs]\n",
    "        sub_faces = inv.reshape(-1,3)\n",
    "\n",
    "        submesh = trimesh.Trimesh(vertices=sub_verts,\n",
    "                                  faces=sub_faces,\n",
    "                                  process=False)\n",
    "\n",
    "        out_path = os.path.join(out_dir, f\"tile_{i}_{j}.ply\")\n",
    "        submesh.export(out_path)\n",
    "        print(f\"Saved {out_path}: {len(sub_verts)} verts, {len(sub_faces)} faces\")\n"
   ]
  },
  {
   "cell_type": "code",
   "execution_count": null,
   "id": "a6169241-8cd3-41b3-9936-12bc296ebafc",
   "metadata": {},
   "outputs": [],
   "source": []
  }
 ],
 "metadata": {
  "kernelspec": {
   "display_name": "Python [conda env:base] *",
   "language": "python",
   "name": "conda-base-py"
  },
  "language_info": {
   "codemirror_mode": {
    "name": "ipython",
    "version": 3
   },
   "file_extension": ".py",
   "mimetype": "text/x-python",
   "name": "python",
   "nbconvert_exporter": "python",
   "pygments_lexer": "ipython3",
   "version": "3.12.7"
  }
 },
 "nbformat": 4,
 "nbformat_minor": 5
}
