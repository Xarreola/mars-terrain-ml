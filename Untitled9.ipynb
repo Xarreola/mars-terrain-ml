{
 "cells": [
  {
   "cell_type": "code",
   "execution_count": 1,
   "id": "bd38fa86-8bd5-46fd-8119-cb553198ce0d",
   "metadata": {},
   "outputs": [
    {
     "name": "stdout",
     "output_type": "stream",
     "text": [
      "['.anaconda', '.android', '.bgis', '.conda', '.condarc', '.continuum', '.honeybee', '.InstallAnywhere', '.ipynb_checkpoints', '.ipython', '.jupyter', '.ladybug', '.matplotlib', '.ms-ad', '.nuget', '.opera', '.Origin', '.QtWebEngineProcess', '.rhinocode', '.thumbnails', '3D Objects', 'A00826757@itesm.mx Creative Cloud Files (enterprise)', 'anaconda3', 'anaconda_projects', 'ansel', 'AppData', 'battery-report.html', 'CmDust-Result.log', 'Configuración local', 'Contacts', 'Cookies', 'Creative Cloud Files (archived) (1)', 'Creative Cloud Files Company Account POLITECNICO DI MILANO - POLIMI javierandres.arreola@mail.polimi.it 16CA2CC85F59A6670A495FEC@mail.polimi.it', 'Datos de programa', 'Descargas - Acceso directo.lnk', 'Desktop', 'Documents', 'Downloads', 'Enscape', 'Entorno de red', 'Favorites', 'Graphisoft', 'iCloudDrive', 'Impresoras', 'IntelGraphicsProfiles', 'ladybug_tools', 'Links', 'Menú Inicio', 'Meshclean2.ply', 'MicrosoftEdgeBackups', 'Mis documentos', 'Music', 'NTUSER.DAT', 'ntuser.dat.LOG1', 'ntuser.dat.LOG2', 'NTUSER.DAT{2ad838bc-efea-11ee-a54d-000d3a94eaa1}.TM.blf', 'NTUSER.DAT{2ad838bc-efea-11ee-a54d-000d3a94eaa1}.TMContainer00000000000000000001.regtrans-ms', 'NTUSER.DAT{2ad838bc-efea-11ee-a54d-000d3a94eaa1}.TMContainer00000000000000000002.regtrans-ms', 'ntuser.ini', 'OneDrive', 'OneDrive - Politecnico di Milano', 'Pictures', 'plansPiante aggiornate-Layout555.pdf', 'Plantillas', 'plot.log', 'Reciente', 'saga_gui.ini', 'Saved Games', 'Searches', 'SendTo', 'simulation', 'source', 'tiles_1km', 'tile_0_67.ply', 'tile_0_68.ply', 'tile_0_69.ply', 'tile_1_66.ply', 'tile_1_67.ply', 'tile_1_68.ply', 'tile_1_69.ply', 'tile_1_70.ply', 'tile_2_65.ply', 'tile_2_66.ply', 'tile_2_67.ply', 'tile_2_68.ply', 'tile_2_69.ply', 'tile_2_70.ply', 'tile_2_71.ply', 'tile_3_64.ply', 'tile_3_65.ply', 'tile_3_66.ply', 'tile_3_67.ply', 'tile_3_68.ply', 'tile_3_69.ply', 'tile_3_70.ply', 'tile_3_71.ply', 'tile_3_72.ply', 'tile_4_64.ply', 'tile_4_65.ply', 'tile_4_66.ply', 'tile_4_67.ply', 'tile_4_68.ply', 'tile_4_69.ply', 'tile_4_70.ply', 'tile_4_71.ply', 'tile_4_72.ply', 'tile_4_73.ply', 'tile_4_74.ply', 'Tracing', 'Untitled.ipynb', 'Untitled1.ipynb', 'Untitled2.ipynb', 'Untitled3.ipynb', 'Untitled4.ipynb', 'Untitled5.ipynb', 'Untitled6.ipynb', 'Untitled7.ipynb', 'Untitled8.ipynb', 'Untitled9.ipynb', 'Videos']\n"
     ]
    }
   ],
   "source": [
    "import os\n",
    "print(os.listdir(os.getcwd()))\n"
   ]
  },
  {
   "cell_type": "code",
   "execution_count": null,
   "id": "4685a9dd-5307-431e-a026-f21400603f9a",
   "metadata": {},
   "outputs": [],
   "source": [
    "import os\n",
    "import trimesh\n",
    "import numpy as np\n",
    "\n",
    "# 1. Load your mesh from your Windows drive\n",
    "mesh_path = r\"C:\\Users\\Dell\\Meshclean2.ply\"\n",
    "if not os.path.isfile(mesh_path):\n",
    "    raise FileNotFoundError(f\"Cannot find mesh at {mesh_path}\")\n",
    "print(\"Mesh found on local drive, loading…\")\n",
    "\n",
    "mesh = trimesh.load(mesh_path, process=False)\n",
    "verts, faces = mesh.vertices, mesh.faces\n",
    "print(f\"Loaded mesh: {len(verts)} verts, {len(faces)} faces\")\n",
    "\n",
    "# 2. Extents from CC\n",
    "X_MIN, X_MAX = -103247.0, 1240690.0\n",
    "Y_MIN, Y_MAX = -1161150.0,  434666.0\n",
    "\n",
    "# 3. Compute tile grid\n",
    "tile_size = 1000.0\n",
    "nx = int(np.ceil((X_MAX - X_MIN) / tile_size))\n",
    "ny = int(np.ceil((Y_MAX - Y_MIN) / tile_size))\n",
    "print(f\"Tiling into {nx}×{ny} tiles\")\n",
    "\n",
    "# 4. Prepare output folder locally\n",
    "out_dir = r\"C:\\Users\\Dell\\Tiles 1km\"\n",
    "os.makedirs(out_dir, exist_ok=True)\n",
    "\n",
    "# 5. Prepare face-coordinate array\n",
    "coords = verts[faces]  # (n_faces,3,3)\n",
    "\n",
    "# 6. Slice & export\n",
    "for i in range(nx):\n",
    "    for j in range(ny):\n",
    "        x0, x1 = X_MIN + i*tile_size, X_MIN + (i+1)*tile_size\n",
    "        y0, y1 = Y_MIN + j*tile_size, Y_MIN + (j+1)*tile_size\n",
    "\n",
    "        mask = np.all(\n",
    "            (coords[:,:,0]>=x0)&(coords[:,:,0]<x1)&\n",
    "            (coords[:,:,1]>=y0)&(coords[:,:,1]<y1),\n",
    "            axis=(1,2)\n",
    "        )\n",
    "        if not mask.any():\n",
    "            continue\n",
    "\n",
    "        sub_faces = faces[mask]\n",
    "        vs, inv = np.unique(sub_faces.flatten(), return_inverse=True)\n",
    "        sub_verts = verts[vs]\n",
    "        sub_faces = inv.reshape(-1,3)\n",
    "\n",
    "        submesh = trimesh.Trimesh(vertices=sub_verts, faces=sub_faces, process=False)\n",
    "        out_path = os.path.join(out_dir, f\"tile_{i}_{j}.ply\")\n",
    "        submesh.export(out_path)\n",
    "        print(f\"Saved {out_path}\")\n"
   ]
  },
  {
   "cell_type": "code",
   "execution_count": null,
   "id": "e8ad96e7-1221-4be6-a9d4-55cc856f32c0",
   "metadata": {},
   "outputs": [],
   "source": [
    "import os\n",
    "print(\"Notebook working directory:\", os.getcwd())\n",
    "print(\"Contents:\", os.listdir(os.getcwd()))\n"
   ]
  },
  {
   "cell_type": "code",
   "execution_count": null,
   "id": "95b62bc9-c4e6-4af0-ad28-5e3f7a4ff51f",
   "metadata": {},
   "outputs": [],
   "source": []
  }
 ],
 "metadata": {
  "kernelspec": {
   "display_name": "Python [conda env:base] *",
   "language": "python",
   "name": "conda-base-py"
  },
  "language_info": {
   "codemirror_mode": {
    "name": "ipython",
    "version": 3
   },
   "file_extension": ".py",
   "mimetype": "text/x-python",
   "name": "python",
   "nbconvert_exporter": "python",
   "pygments_lexer": "ipython3",
   "version": "3.12.7"
  }
 },
 "nbformat": 4,
 "nbformat_minor": 5
}
