{
 "cells": [
  {
   "cell_type": "code",
   "execution_count": null,
   "id": "ad98f751-db15-4c88-97e5-d71031c99e4a",
   "metadata": {},
   "outputs": [
    {
     "name": "stdout",
     "output_type": "stream",
     "text": [
      "Loading mesh from: C:\\Users\\Dell\\Meshclean2.ply\n"
     ]
    }
   ],
   "source": [
    "import os\n",
    "import trimesh\n",
    "import numpy as np\n",
    "\n",
    "# 1. Locate the mesh in the current working folder\n",
    "cwd = os.getcwd()\n",
    "mesh_path = os.path.join(cwd, \"Meshclean2.ply\")\n",
    "if not os.path.exists(mesh_path):\n",
    "    raise FileNotFoundError(f\"Mesh not found at {mesh_path}\")\n",
    "\n",
    "print(\"Loading mesh from:\", mesh_path)\n",
    "mesh = trimesh.load(mesh_path, process=False)\n",
    "verts = mesh.vertices\n",
    "faces = mesh.faces\n",
    "print(f\"Mesh has {len(verts)} vertices and {len(faces)} faces\")\n",
    "\n",
    "# 2. Extents from CloudCompare\n",
    "X_MIN, X_MAX = -103247.0, 1240690.0\n",
    "Y_MIN, Y_MAX = -1161150.0,  434666.0\n",
    "\n",
    "# 3. Tile counts (1km squares)\n",
    "tile_size = 1000.0\n",
    "nx = int(np.ceil((X_MAX - X_MIN) / tile_size))\n",
    "ny = int(np.ceil((Y_MAX - Y_MIN) / tile_size))\n",
    "print(f\"Tiling into {nx}×{ny} = {nx*ny} squares\")\n",
    "\n",
    "# 4. Output folder inside CWD\n",
    "out_dir = os.path.join(cwd, \"tiles_1km\")\n",
    "os.makedirs(out_dir, exist_ok=True)\n",
    "\n",
    "# 5. Compute face‐coordinates array once\n",
    "face_coords = verts[faces]  # shape (n_faces, 3, 3)\n",
    "\n",
    "# 6. Loop & export\n",
    "for i in range(nx):\n",
    "    for j in range(ny):\n",
    "        x0, x1 = X_MIN + i*tile_size, X_MIN + (i+1)*tile_size\n",
    "        y0, y1 = Y_MIN + j*tile_size, Y_MIN + (j+1)*tile_size\n",
    "\n",
    "        # boolean mask for faces fully inside the XY box\n",
    "        within_x = (face_coords[:,:,0] >= x0) & (face_coords[:,:,0] < x1)\n",
    "        within_y = (face_coords[:,:,1] >= y0) & (face_coords[:,:,1] < y1)\n",
    "        mask = np.all(within_x & within_y, axis=(1,2))\n",
    "\n",
    "        if not mask.any():\n",
    "            continue\n",
    "\n",
    "        sub_faces = faces[mask]\n",
    "        vs, inv = np.unique(sub_faces.flatten(), return_inverse=True)\n",
    "        sub_verts = verts[vs]\n",
    "        sub_faces = inv.reshape(-1,3)\n",
    "\n",
    "        submesh = trimesh.Trimesh(vertices=sub_verts,\n",
    "                                  faces=sub_faces,\n",
    "                                  process=False)\n",
    "\n",
    "        out_path = os.path.join(out_dir, f\"tile_{i}_{j}.ply\")\n",
    "        submesh.export(out_path)\n",
    "        print(f\"Saved {out_path}: {len(sub_verts)} verts, {len(sub_faces)} faces\")\n"
   ]
  },
  {
   "cell_type": "code",
   "execution_count": null,
   "id": "85959a96-d2de-43e5-80f3-eab896a806d2",
   "metadata": {},
   "outputs": [],
   "source": []
  }
 ],
 "metadata": {
  "kernelspec": {
   "display_name": "Python [conda env:base] *",
   "language": "python",
   "name": "conda-base-py"
  },
  "language_info": {
   "codemirror_mode": {
    "name": "ipython",
    "version": 3
   },
   "file_extension": ".py",
   "mimetype": "text/x-python",
   "name": "python",
   "nbconvert_exporter": "python",
   "pygments_lexer": "ipython3",
   "version": "3.12.7"
  }
 },
 "nbformat": 4,
 "nbformat_minor": 5
}
