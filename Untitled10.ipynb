{
 "cells": [
  {
   "cell_type": "code",
   "execution_count": 1,
   "id": "33dbfaf9-bce9-4465-85a1-6063f0ced63f",
   "metadata": {},
   "outputs": [
    {
     "name": "stdout",
     "output_type": "stream",
     "text": [
      "👋 This code is running in the cell!\n"
     ]
    }
   ],
   "source": [
    "print(\"👋 This code is running in the cell!\")\n"
   ]
  },
  {
   "cell_type": "code",
   "execution_count": 3,
   "id": "5b4e5c51-0c99-43d2-9181-bf249a79a767",
   "metadata": {},
   "outputs": [
    {
     "name": "stdout",
     "output_type": "stream",
     "text": [
      "Checking mesh: C:\\Users\\Dell\\Meshclean2.ply\n",
      "Exists? True\n"
     ]
    }
   ],
   "source": [
    "import os\n",
    "mesh_path = r\"C:\\Users\\Dell\\Meshclean2.ply\"\n",
    "print(\"Checking mesh:\", mesh_path)\n",
    "print(\"Exists?\", os.path.exists(mesh_path))\n"
   ]
  },
  {
   "cell_type": "code",
   "execution_count": null,
   "id": "6d1ad459-1cad-41c2-bcc8-9b6c98ec4caf",
   "metadata": {},
   "outputs": [],
   "source": [
    "import numpy as np\n",
    "\n",
    "# extents & mesh from steps 1–2\n",
    "X_MIN, X_MAX = -103247.0, 1240690.0\n",
    "Y_MIN, Y_MAX = -1161150.0,  434666.0\n",
    "tile_size = 1000.0\n",
    "\n",
    "# load mesh again in case we're in a fresh cell\n",
    "import trimesh\n",
    "mesh = trimesh.load(\"Meshclean2.ply\", process=False)\n",
    "verts, faces = mesh.vertices, mesh.faces\n",
    "\n",
    "# compute face coords once\n",
    "coords = verts[faces]  # (n_faces,3,3)\n",
    "\n",
    "# tile (0,0) bounds\n",
    "x0, x1 = X_MIN, X_MIN + tile_size\n",
    "y0, y1 = Y_MIN, Y_MIN + tile_size\n",
    "\n",
    "mask = np.all(\n",
    "    (coords[:,:,0] >= x0)&(coords[:,:,0] < x1)&\n",
    "    (coords[:,:,1] >= y0)&(coords[:,:,1] < y1),\n",
    "    axis=(1,2)\n",
    ")\n",
    "\n",
    "if not mask.any():\n",
    "    print(\"No faces in tile (0,0)—check your extents or mesh coverage.\")\n",
    "else:\n",
    "    sub_faces = faces[mask]\n",
    "    vs, inv = np.unique(sub_faces.flatten(), return_inverse=True)\n",
    "    submesh = trimesh.Trimesh(vertices=verts[vs],\n",
    "                              faces=inv.reshape(-1,3),\n",
    "                              process=False)\n",
    "    fname = os.path.join(\"Tiles 1km\", \"tile_0_0.ply\")\n",
    "    submesh.export(fname)\n",
    "    print(\"Wrote first tile:\", fname, \n",
    "          \"-\", len(submesh.vertices), \"verts,\", len(submesh.faces), \"faces\")\n",
    "\n",
    "print(\"Tiles folder now contains:\", os.listdir(\"Tiles 1km\"))\n"
   ]
  },
  {
   "cell_type": "code",
   "execution_count": null,
   "id": "67dd1dcc-5e61-4945-90dd-ac5f8eb3b325",
   "metadata": {},
   "outputs": [],
   "source": []
  }
 ],
 "metadata": {
  "kernelspec": {
   "display_name": "Python [conda env:base] *",
   "language": "python",
   "name": "conda-base-py"
  },
  "language_info": {
   "codemirror_mode": {
    "name": "ipython",
    "version": 3
   },
   "file_extension": ".py",
   "mimetype": "text/x-python",
   "name": "python",
   "nbconvert_exporter": "python",
   "pygments_lexer": "ipython3",
   "version": "3.12.7"
  }
 },
 "nbformat": 4,
 "nbformat_minor": 5
}
