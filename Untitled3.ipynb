{
 "cells": [
  {
   "cell_type": "code",
   "execution_count": 1,
   "id": "2012e512-56a7-48ef-9fa6-0db6e41f2311",
   "metadata": {},
   "outputs": [
    {
     "name": "stdout",
     "output_type": "stream",
     "text": [
      "Jupyter environment detected. Enabling Open3D WebVisualizer.\n",
      "[Open3D INFO] WebRTC GUI backend enabled.\n",
      "[Open3D INFO] WebRTCWindowSystem: HTTP handshake server disabled.\n",
      "[Open3D WARNING] Read PLY failed: unable to open file: big_area.ply\n"
     ]
    },
    {
     "ename": "ValueError",
     "evalue": "zero-size array to reduction operation minimum which has no identity",
     "output_type": "error",
     "traceback": [
      "\u001b[1;31m---------------------------------------------------------------------------\u001b[0m",
      "\u001b[1;31mValueError\u001b[0m                                Traceback (most recent call last)",
      "Cell \u001b[1;32mIn[1], line 9\u001b[0m\n\u001b[0;32m      6\u001b[0m pts \u001b[38;5;241m=\u001b[39m np\u001b[38;5;241m.\u001b[39masarray(pc\u001b[38;5;241m.\u001b[39mpoints)\n\u001b[0;32m      8\u001b[0m \u001b[38;5;66;03m# 2. Compute extents\u001b[39;00m\n\u001b[1;32m----> 9\u001b[0m xmin, ymin \u001b[38;5;241m=\u001b[39m pts[:,\u001b[38;5;241m0\u001b[39m]\u001b[38;5;241m.\u001b[39mmin(), pts[:,\u001b[38;5;241m1\u001b[39m]\u001b[38;5;241m.\u001b[39mmin()\n\u001b[0;32m     11\u001b[0m \u001b[38;5;66;03m# 3. Loop over tiles\u001b[39;00m\n\u001b[0;32m     12\u001b[0m tile_size \u001b[38;5;241m=\u001b[39m \u001b[38;5;241m10000.0\u001b[39m  \u001b[38;5;66;03m# 10 km\u001b[39;00m\n",
      "File \u001b[1;32m~\\anaconda3\\Lib\\site-packages\\numpy\\core\\_methods.py:45\u001b[0m, in \u001b[0;36m_amin\u001b[1;34m(a, axis, out, keepdims, initial, where)\u001b[0m\n\u001b[0;32m     43\u001b[0m \u001b[38;5;28;01mdef\u001b[39;00m \u001b[38;5;21m_amin\u001b[39m(a, axis\u001b[38;5;241m=\u001b[39m\u001b[38;5;28;01mNone\u001b[39;00m, out\u001b[38;5;241m=\u001b[39m\u001b[38;5;28;01mNone\u001b[39;00m, keepdims\u001b[38;5;241m=\u001b[39m\u001b[38;5;28;01mFalse\u001b[39;00m,\n\u001b[0;32m     44\u001b[0m           initial\u001b[38;5;241m=\u001b[39m_NoValue, where\u001b[38;5;241m=\u001b[39m\u001b[38;5;28;01mTrue\u001b[39;00m):\n\u001b[1;32m---> 45\u001b[0m     \u001b[38;5;28;01mreturn\u001b[39;00m umr_minimum(a, axis, \u001b[38;5;28;01mNone\u001b[39;00m, out, keepdims, initial, where)\n",
      "\u001b[1;31mValueError\u001b[0m: zero-size array to reduction operation minimum which has no identity"
     ]
    }
   ],
   "source": [
    "import open3d as o3d\n",
    "import numpy as np\n",
    "\n",
    "# 1. Load\n",
    "pc = o3d.io.read_point_cloud(\"big_area.ply\")\n",
    "pts = np.asarray(pc.points)\n",
    "\n",
    "# 2. Compute extents\n",
    "xmin, ymin = pts[:,0].min(), pts[:,1].min()\n",
    "\n",
    "# 3. Loop over tiles\n",
    "tile_size = 10000.0  # 10 km\n",
    "for i in range(int(np.ceil((pts[:,0].max()-xmin)/tile_size))):\n",
    "    for j in range(int(np.ceil((pts[:,1].max()-ymin)/tile_size))):\n",
    "        x0, x1 = xmin + i*tile_size, xmin + (i+1)*tile_size\n",
    "        y0, y1 = ymin + j*tile_size, ymin + (j+1)*tile_size\n",
    "\n",
    "        # 4. Crop\n",
    "        mask = (\n",
    "            (pts[:,0]>=x0)&(pts[:,0]<x1) &\n",
    "            (pts[:,1]>=y0)&(pts[:,1]<y1)\n",
    "        )\n",
    "        sub_pc = o3d.geometry.PointCloud()\n",
    "        sub_pc.points = o3d.utility.Vector3dVector(pts[mask])\n",
    "\n",
    "        # 5. Save\n",
    "        fname = f\"tile_{i}_{j}.ply\"\n",
    "        o3d.io.write_point_cloud(fname, sub_pc)\n",
    "        print(f\"Saved {fname} with {len(sub_pc.points)} points\")\n"
   ]
  },
  {
   "cell_type": "code",
   "execution_count": null,
   "id": "fc1b449d-9567-45cc-982b-f0b11730cd93",
   "metadata": {},
   "outputs": [],
   "source": []
  }
 ],
 "metadata": {
  "kernelspec": {
   "display_name": "Python [conda env:base] *",
   "language": "python",
   "name": "conda-base-py"
  },
  "language_info": {
   "codemirror_mode": {
    "name": "ipython",
    "version": 3
   },
   "file_extension": ".py",
   "mimetype": "text/x-python",
   "name": "python",
   "nbconvert_exporter": "python",
   "pygments_lexer": "ipython3",
   "version": "3.12.7"
  }
 },
 "nbformat": 4,
 "nbformat_minor": 5
}
