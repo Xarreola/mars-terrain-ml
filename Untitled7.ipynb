{
 "cells": [
  {
   "cell_type": "code",
   "execution_count": null,
   "id": "1056fd6a-773f-4a5e-a415-e887137144d8",
   "metadata": {},
   "outputs": [],
   "source": [
    "import trimesh\n",
    "import numpy as np\n",
    "import os\n",
    "\n",
    "# 1. Load your cleaned mesh from your local drive\n",
    "mesh_path = r\"C:\\Users\\Dell\\Meshclean2.ply\"\n",
    "if not os.path.exists(mesh_path):\n",
    "    raise FileNotFoundError(f\"Mesh file not found at {mesh_path}\")\n",
    "\n",
    "mesh = trimesh.load(mesh_path, process=False)\n",
    "verts = mesh.vertices\n",
    "faces = mesh.faces\n",
    "print(f\"Loaded mesh: {len(verts)} vertices, {len(faces)} faces\")\n",
    "\n",
    "# 2. Define extents (from CloudCompare)\n",
    "X_MIN, X_MAX = -103247.0, 1240690.0\n",
    "Y_MIN, Y_MAX = -1161150.0,  434666.0\n",
    "\n",
    "# 3. Compute how many 1 km tiles\n",
    "tile_size = 1000.0  # meters\n",
    "nx = int(np.ceil((X_MAX - X_MIN) / tile_size))\n",
    "ny = int(np.ceil((Y_MAX - Y_MIN) / tile_size))\n",
    "print(f\"Tiling into {nx}×{ny} tiles\")\n",
    "\n",
    "# 4. Prepare output folder on your local drive\n",
    "out_dir = r\"C:\\Users\\Dell\\Tiles 1km\"\n",
    "os.makedirs(out_dir, exist_ok=True)\n",
    "\n",
    "# 5. Precompute face-coordinates\n",
    "face_coords = verts[faces]  # shape (n_faces, 3, 3)\n",
    "\n",
    "# 6. Loop & export\n",
    "for i in range(nx):\n",
    "    for j in range(ny):\n",
    "        x0, x1 = X_MIN + i*tile_size, X_MIN + (i+1)*tile_size\n",
    "        y0, y1 = Y_MIN + j*tile_size, Y_MIN + (j+1)*tile_size\n",
    "\n",
    "        within_x = (face_coords[:,:,0] >= x0) & (face_coords[:,:,0] < x1)\n",
    "        within_y = (face_coords[:,:,1] >= y0) & (face_coords[:,:,1] < y1)\n",
    "        face_mask = np.all(within_x & within_y, axis=(1,2))\n",
    "\n",
    "        if not face_mask.any():\n",
    "            continue\n",
    "\n",
    "        sub_faces = faces[face_mask]\n",
    "        unique_vs, new_index = np.unique(sub_faces.flatten(), return_inverse=True)\n",
    "        sub_verts = verts[unique_vs]\n",
    "        sub_faces = new_index.reshape(-1,3)\n",
    "\n",
    "        submesh = trimesh.Trimesh(vertices=sub_verts,\n",
    "                                  faces=sub_faces,\n",
    "                                  process=False)\n",
    "\n",
    "        out_path = os.path.join(out_dir, f\"tile_{i}_{j}.ply\")\n",
    "        submesh.export(out_path)\n",
    "        print(f\"Saved {out_path}: {len(sub_verts)} verts, {len(sub_faces)} faces\")\n"
   ]
  },
  {
   "cell_type": "code",
   "execution_count": null,
   "id": "6bcedc8a-5d60-4cd8-bbc1-15fe5ba4f09e",
   "metadata": {},
   "outputs": [],
   "source": []
  }
 ],
 "metadata": {
  "kernelspec": {
   "display_name": "Python [conda env:base] *",
   "language": "python",
   "name": "conda-base-py"
  },
  "language_info": {
   "codemirror_mode": {
    "name": "ipython",
    "version": 3
   },
   "file_extension": ".py",
   "mimetype": "text/x-python",
   "name": "python",
   "nbconvert_exporter": "python",
   "pygments_lexer": "ipython3",
   "version": "3.12.7"
  }
 },
 "nbformat": 4,
 "nbformat_minor": 5
}
